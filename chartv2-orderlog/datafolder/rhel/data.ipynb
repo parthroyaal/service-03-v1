{
 "cells": [
  {
   "cell_type": "code",
   "execution_count": 41,
   "metadata": {},
   "outputs": [],
   "source": [
    "#getDataS json asce top to bottom \n",
    "\n",
    "# {\n",
    "#     \"success\": true,\n",
    "#     \"data\": {\n",
    "#         \"o\": null,\n",
    "#         \"h\": null,\n",
    "#         \"l\": null,\n",
    "#         \"c\": null,\n",
    "#         \"v\": null,\n",
    "#         \"t\": null,\n",
    "#         \"oi\": null,\n",
    "#         \"Time\": null\n",
    "#     },\n",
    "#     \"nextTime\": 1723111195\n",
    "# }"
   ]
  },
  {
   "cell_type": "code",
   "execution_count": 42,
   "metadata": {},
   "outputs": [],
   "source": [
    "import json\n",
    "import pandas as pd\n",
    "from datetime import timedelta, datetime\n",
    "\n",
    "def json_to_csv(file_path):\n",
    "  \"\"\"Converts JSON data from a file to a CSV file.\n",
    "\n",
    "  Args:\n",
    "    file_path: The path to the JSON file.\n",
    "\n",
    "  Returns:\n",
    "    None. Creates a CSV file named 'output.csv'.\n",
    "  \"\"\"\n",
    "\n",
    "  with open(file_path, 'r') as f:\n",
    "    data = json.load(f)\n",
    "\n",
    "  df = pd.DataFrame(data['data'])\n",
    "  df = df.rename(columns={\"t\": \"time\", \"o\": \"open\", \"h\": \"high\", \"l\": \"low\", \"c\": \"close\",\"v\": \"volume\", \"Time\": \"time_str\"})\n",
    "  # df['time'] = pd.to_datetime(df['time'], unit='s')  # Convert from Unix timestamps\n",
    "\n",
    "  # df['time'] = pd.to_datetime(df['time'], utc=True)\n",
    "  # df['time'] = df['time'] + timedelta(hours=5)\n",
    "  df['time'] = pd.to_datetime(df['time_str'].str.split('+').str[0], format='%Y-%m-%dT%H:%M:%S')\n",
    "\n",
    "  df.to_csv('ohlcv.csv', index=False)\n",
    "\n",
    "# Example usage:\n",
    "json_to_csv('data.txt')"
   ]
  },
  {
   "cell_type": "code",
   "execution_count": 43,
   "metadata": {},
   "outputs": [],
   "source": [
    "import pandas as pd \n",
    "\n",
    "df = pd.read_csv(\"ohlcv.csv\")\n"
   ]
  },
  {
   "cell_type": "code",
   "execution_count": 44,
   "metadata": {},
   "outputs": [
    {
     "data": {
      "text/html": [
       "<div>\n",
       "<style scoped>\n",
       "    .dataframe tbody tr th:only-of-type {\n",
       "        vertical-align: middle;\n",
       "    }\n",
       "\n",
       "    .dataframe tbody tr th {\n",
       "        vertical-align: top;\n",
       "    }\n",
       "\n",
       "    .dataframe thead th {\n",
       "        text-align: right;\n",
       "    }\n",
       "</style>\n",
       "<table border=\"1\" class=\"dataframe\">\n",
       "  <thead>\n",
       "    <tr style=\"text-align: right;\">\n",
       "      <th></th>\n",
       "      <th>open</th>\n",
       "      <th>high</th>\n",
       "      <th>low</th>\n",
       "      <th>close</th>\n",
       "      <th>volume</th>\n",
       "      <th>time</th>\n",
       "      <th>oi</th>\n",
       "      <th>time_str</th>\n",
       "    </tr>\n",
       "  </thead>\n",
       "  <tbody>\n",
       "    <tr>\n",
       "      <th>0</th>\n",
       "      <td>2910.3</td>\n",
       "      <td>2910.3</td>\n",
       "      <td>2910.3</td>\n",
       "      <td>2910.3</td>\n",
       "      <td>0</td>\n",
       "      <td>2024-08-06 09:10:40</td>\n",
       "      <td>0</td>\n",
       "      <td>2024-08-06T09:10:40+05:30</td>\n",
       "    </tr>\n",
       "  </tbody>\n",
       "</table>\n",
       "</div>"
      ],
      "text/plain": [
       "     open    high     low   close  volume                 time  oi  \\\n",
       "0  2910.3  2910.3  2910.3  2910.3       0  2024-08-06 09:10:40   0   \n",
       "\n",
       "                    time_str  \n",
       "0  2024-08-06T09:10:40+05:30  "
      ]
     },
     "execution_count": 44,
     "metadata": {},
     "output_type": "execute_result"
    }
   ],
   "source": [
    "df.head(1)"
   ]
  },
  {
   "cell_type": "code",
   "execution_count": 45,
   "metadata": {},
   "outputs": [
    {
     "data": {
      "text/html": [
       "<div>\n",
       "<style scoped>\n",
       "    .dataframe tbody tr th:only-of-type {\n",
       "        vertical-align: middle;\n",
       "    }\n",
       "\n",
       "    .dataframe tbody tr th {\n",
       "        vertical-align: top;\n",
       "    }\n",
       "\n",
       "    .dataframe thead th {\n",
       "        text-align: right;\n",
       "    }\n",
       "</style>\n",
       "<table border=\"1\" class=\"dataframe\">\n",
       "  <thead>\n",
       "    <tr style=\"text-align: right;\">\n",
       "      <th></th>\n",
       "      <th>open</th>\n",
       "      <th>high</th>\n",
       "      <th>low</th>\n",
       "      <th>close</th>\n",
       "      <th>volume</th>\n",
       "      <th>time</th>\n",
       "      <th>oi</th>\n",
       "      <th>time_str</th>\n",
       "    </tr>\n",
       "  </thead>\n",
       "  <tbody>\n",
       "    <tr>\n",
       "      <th>103</th>\n",
       "      <td>2942.75</td>\n",
       "      <td>2942.8</td>\n",
       "      <td>2941.9</td>\n",
       "      <td>2941.9</td>\n",
       "      <td>1318</td>\n",
       "      <td>2024-08-06 09:19:15</td>\n",
       "      <td>0</td>\n",
       "      <td>2024-08-06T09:19:15+05:30</td>\n",
       "    </tr>\n",
       "  </tbody>\n",
       "</table>\n",
       "</div>"
      ],
      "text/plain": [
       "        open    high     low   close  volume                 time  oi  \\\n",
       "103  2942.75  2942.8  2941.9  2941.9    1318  2024-08-06 09:19:15   0   \n",
       "\n",
       "                      time_str  \n",
       "103  2024-08-06T09:19:15+05:30  "
      ]
     },
     "execution_count": 45,
     "metadata": {},
     "output_type": "execute_result"
    }
   ],
   "source": [
    "df.tail(1)"
   ]
  },
  {
   "cell_type": "code",
   "execution_count": null,
   "metadata": {},
   "outputs": [],
   "source": []
  },
  {
   "cell_type": "code",
   "execution_count": null,
   "metadata": {},
   "outputs": [],
   "source": []
  },
  {
   "cell_type": "code",
   "execution_count": null,
   "metadata": {},
   "outputs": [],
   "source": []
  },
  {
   "cell_type": "code",
   "execution_count": null,
   "metadata": {},
   "outputs": [],
   "source": []
  }
 ],
 "metadata": {
  "kernelspec": {
   "display_name": "base",
   "language": "python",
   "name": "python3"
  },
  "language_info": {
   "codemirror_mode": {
    "name": "ipython",
    "version": 3
   },
   "file_extension": ".py",
   "mimetype": "text/x-python",
   "name": "python",
   "nbconvert_exporter": "python",
   "pygments_lexer": "ipython3",
   "version": "3.10.12"
  }
 },
 "nbformat": 4,
 "nbformat_minor": 2
}
